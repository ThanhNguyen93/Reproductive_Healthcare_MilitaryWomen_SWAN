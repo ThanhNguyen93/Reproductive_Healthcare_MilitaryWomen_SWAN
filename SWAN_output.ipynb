{
 "cells": [
  {
   "cell_type": "code",
   "execution_count": 1,
   "metadata": {
    "collapsed": true
   },
   "outputs": [],
   "source": [
    "import pandas as pd\n",
    "import numpy as np\n",
    "from scipy import stats\n",
    "import seaborn as sns\n",
    "from scipy import stats\n",
    "\n",
    "import matplotlib.pyplot as plt\n",
    "%matplotlib inline\n",
    "import csv"
   ]
  },
  {
   "cell_type": "code",
   "execution_count": 2,
   "metadata": {
    "collapsed": true
   },
   "outputs": [],
   "source": [
    "data = pd.read_csv('SWAN Reproductive Options Survey Data de identified.csv')  "
   ]
  },
  {
   "cell_type": "code",
   "execution_count": 3,
   "metadata": {
    "collapsed": true
   },
   "outputs": [],
   "source": [
    "FILE_NAME = 'SWAN Reproductive Options Survey Data de identified.csv'\n",
    "outputCSVFile = 'SWAN_output.csv'"
   ]
  },
  {
   "cell_type": "markdown",
   "metadata": {},
   "source": [
    "## Race "
   ]
  },
  {
   "cell_type": "code",
   "execution_count": 4,
   "metadata": {
    "collapsed": true
   },
   "outputs": [],
   "source": [
    "with open(outputCSVFile, 'w') as csvoutput:\n",
    "    with open(FILE_NAME) as csvinput:\n",
    "        reader = csv.reader(csvinput)\n",
    "        writer = csv.writer(csvoutput)\n",
    "        processed_data = []\n",
    "        \n",
    "        header = next(reader, [])\n",
    "        processed_data.append(header + [\"race\"] )\n",
    "    \n",
    "        header = next(reader, []) \n",
    "        processed_data.append(header + [\"\"])\n",
    "        \n",
    "        for row in reader:\n",
    "            race = [];\n",
    "            for i in range(2, 12):\n",
    "                if len(row[i]) > 0:               \n",
    "                    race.append(row[i])\n",
    "            \n",
    "            if len(race) > 1:\n",
    "                race = [\"Mixed\"]\n",
    "            \n",
    "            processed_data.append(row + race)\n",
    "            \n",
    "        writer.writerows(processed_data) "
   ]
  },
  {
   "cell_type": "code",
   "execution_count": 38,
   "metadata": {
    "collapsed": true
   },
   "outputs": [],
   "source": [
    "with open(outputCSVFile, 'w') as csvoutput:\n",
    "    with open(FILE_NAME) as csvinput:\n",
    "        reader = csv.reader(csvinput)\n",
    "        writer = csv.writer(csvoutput)\n",
    "        processed_data = []\n",
    "        \n",
    "        header = next(reader, [])\n",
    "        processed_data.append(header + [\"race\"] )\n",
    "    \n",
    "        header = next(reader, [])\n",
    "        processed_data.append(header + [\"\"])\n",
    "        \n",
    "        for row in reader:\n",
    "            race = [];\n",
    "            for i in range(2, 12):\n",
    "                if len(row[i]) > 0:               \n",
    "                    race.append(row[i])\n",
    "                if row[i] == 'American':\n",
    "                    race = \"White\"\n",
    "                if row[i] == 'American':\n",
    "                    race = \"White\"\n",
    "                if row[i] == 'European/Irish American':\n",
    "                    race = \"Mixed\"\n",
    "                if row[i] == \"Human\":\n",
    "                    race = \"I prefer not to answer\"\n",
    "            \n",
    "            if len(race) > 1:\n",
    "                race = [\"Mixed\"]\n",
    "                   \n",
    "            processed_data.append(row + race)\n",
    "            \n",
    "        writer.writerows(processed_data) "
   ]
  },
  {
   "cell_type": "code",
   "execution_count": 39,
   "metadata": {
    "collapsed": true
   },
   "outputs": [],
   "source": [
    "data_output = pd.read_csv('SWAN_output.csv')  "
   ]
  },
  {
   "cell_type": "code",
   "execution_count": 47,
   "metadata": {},
   "outputs": [
    {
     "data": {
      "text/plain": [
       "White                        0.722153\n",
       "Mixed                        0.101377\n",
       "Black or African American    0.063830\n",
       "Hispanic or Latina           0.061327\n",
       "I prefer not to answer       0.032541\n",
       "Asian                        0.012516\n",
       "Pacific Islander             0.002503\n",
       "Native American              0.002503\n",
       "American                     0.001252\n",
       "Name: race, dtype: float64"
      ]
     },
     "execution_count": 47,
     "metadata": {},
     "output_type": "execute_result"
    }
   ],
   "source": [
    "data_output['race'].value_counts(normalize = True) "
   ]
  },
  {
   "cell_type": "code",
   "execution_count": 46,
   "metadata": {},
   "outputs": [
    {
     "data": {
      "text/plain": [
       "<matplotlib.axes._subplots.AxesSubplot at 0x112ffea20>"
      ]
     },
     "execution_count": 46,
     "metadata": {},
     "output_type": "execute_result"
    },
    {
     "data": {
      "image/png": "[encoded data removed]",
      "text/plain": [
       "<Figure size 432x288 with 1 Axes>"
      ]
     },
     "metadata": {},
     "output_type": "display_data"
    }
   ],
   "source": [
    "data_output['race'].value_counts().plot(kind='bar') "
   ]
  },
  {
   "cell_type": "code",
   "execution_count": 173,
   "metadata": {},
   "outputs": [
    {
     "data": {
      "text/plain": [
       "<matplotlib.axes._subplots.AxesSubplot at 0x1155951d0>"
      ]
     },
     "execution_count": 173,
     "metadata": {},
     "output_type": "execute_result"
    },
    {
     "data": {
      "image/png": "[encoded data removed]",
      "text/plain": [
       "<Figure size 432x288 with 1 Axes>"
      ]
     },
     "metadata": {},
     "output_type": "display_data"
    }
   ],
   "source": [
    "sns.countplot(data_output['race']) "
   ]
  },
  {
   "cell_type": "markdown",
   "metadata": {},
   "source": [
    "# In which service branch did or do you serve in? /Service branch\n",
    "\n",
    "##### Navy            1\n",
    "##### Army            2        \n",
    "##### Marine Corps    3\n",
    "#### Coast Guard     4\n",
    "#### Air Force       5"
   ]
  },
  {
   "cell_type": "code",
   "execution_count": 202,
   "metadata": {},
   "outputs": [
    {
     "data": {
      "text/plain": [
       "Army            348\n",
       "Navy            207\n",
       "Air Force       173\n",
       "Marine Corps     53\n",
       "Coast Guard      16\n",
       "Response          1\n",
       "Name: In which service branch did or do you serve in?, dtype: int64"
      ]
     },
     "execution_count": 202,
     "metadata": {},
     "output_type": "execute_result"
    }
   ],
   "source": [
    "data_output['In which service branch did or do you serve in?'].value_counts() "
   ]
  },
  {
   "cell_type": "code",
   "execution_count": 27,
   "metadata": {
    "collapsed": true
   },
   "outputs": [],
   "source": [
    "with open(outputCSVFile, 'w') as csvoutput:\n",
    "    with open(FILE_NAME) as csvinput:\n",
    "        reader = csv.reader(csvinput)\n",
    "        writer = csv.writer(csvoutput)\n",
    "        processed_data = []\n",
    "        \n",
    "        header = next(reader, [])\n",
    "        processed_data.append(header + [\"service branch\"] )\n",
    "        \n",
    "        header = next(reader, [])\n",
    "     \n",
    "        for row in reader:\n",
    "            service_branch = []\n",
    "            for i in range(0, 1):           \n",
    "                if len(row[i]) > 0: \n",
    "                    service_branch.append(row[i])\n",
    "                            \n",
    "            processed_data.append(row + service_branch)\n",
    "            \n",
    "        writer.writerows(processed_data) "
   ]
  },
  {
   "cell_type": "code",
   "execution_count": 28,
   "metadata": {},
   "outputs": [
    {
     "data": {
      "text/plain": [
       "Army            348\n",
       "Navy            207\n",
       "Air Force       173\n",
       "Marine Corps     53\n",
       "Coast Guard      16\n",
       "Name: service branch, dtype: int64"
      ]
     },
     "execution_count": 28,
     "metadata": {},
     "output_type": "execute_result"
    }
   ],
   "source": [
    "data_output = pd.read_csv('SWAN_output.csv') \n",
    "# data_output\n",
    "data_output['service branch'].value_counts() "
   ]
  },
  {
   "cell_type": "markdown",
   "metadata": {},
   "source": [
    "## Service status "
   ]
  },
  {
   "cell_type": "code",
   "execution_count": 25,
   "metadata": {
    "collapsed": true
   },
   "outputs": [],
   "source": [
    "with open(outputCSVFile, 'w') as csvoutput:\n",
    "    with open(FILE_NAME) as csvinput:\n",
    "        reader = csv.reader(csvinput)\n",
    "        writer = csv.writer(csvoutput)\n",
    "        processed_data = []\n",
    "        \n",
    "        header = next(reader, [])\n",
    "        processed_data.append(header + [\"military service status\"] )\n",
    "  \n",
    "        for row in reader:\n",
    "            service_stt = [];\n",
    "            for i in range(12, 15):\n",
    "                if len(row[i]) > 0:               \n",
    "                    service_stt.append(row[i])\n",
    "            if len(service_stt) > 1:\n",
    "                service_stt = [\"Both\"]\n",
    "            processed_data.append(row + service_stt)\n",
    "            \n",
    "        writer.writerows(processed_data)    "
   ]
  },
  {
   "cell_type": "code",
   "execution_count": 26,
   "metadata": {},
   "outputs": [
    {
     "data": {
      "text/plain": [
       "Officer     393\n",
       "Enlisted    369\n",
       "Both         37\n",
       "Name: military service status, dtype: int64"
      ]
     },
     "execution_count": 26,
     "metadata": {},
     "output_type": "execute_result"
    }
   ],
   "source": [
    "data_output = pd.read_csv('SWAN_output.csv')  \n",
    "data_output['military service status'].value_counts() "
   ]
  },
  {
   "cell_type": "code",
   "execution_count": 18,
   "metadata": {
    "scrolled": true
   },
   "outputs": [
    {
     "data": {
      "text/plain": [
       "<matplotlib.axes._subplots.AxesSubplot at 0x109799780>"
      ]
     },
     "execution_count": 18,
     "metadata": {},
     "output_type": "execute_result"
    },
    {
     "data": {
      "image/png": "[encoded data removed]",
      "text/plain": [
       "<Figure size 432x288 with 1 Axes>"
      ]
     },
     "metadata": {},
     "output_type": "display_data"
    }
   ],
   "source": [
    "data_output['military service status'].value_counts().plot(kind='bar') "
   ]
  },
  {
   "cell_type": "markdown",
   "metadata": {},
   "source": [
    "## Current service status \n",
    "What is your current service status "
   ]
  },
  {
   "cell_type": "code",
   "execution_count": 7,
   "metadata": {},
   "outputs": [
    {
     "data": {
      "text/plain": [
       "Veteran (not retired)    333\n",
       "Active Duty              277\n",
       "Retired Military         141\n",
       "Reservist                 37\n",
       "National Guard            11\n",
       "Response                   1\n",
       "Name: What is your current service status, dtype: int64"
      ]
     },
     "execution_count": 7,
     "metadata": {},
     "output_type": "execute_result"
    }
   ],
   "source": [
    "data_output['What is your current service status'].value_counts() "
   ]
  },
  {
   "cell_type": "code",
   "execution_count": 9,
   "metadata": {
    "collapsed": true
   },
   "outputs": [],
   "source": [
    "with open(outputCSVFile, 'w') as csvoutput:\n",
    "    with open(FILE_NAME) as csvinput:\n",
    "        reader = csv.reader(csvinput)\n",
    "        writer = csv.writer(csvoutput)\n",
    "        processed_data = []\n",
    "        \n",
    "        header = next(reader, [])\n",
    "        processed_data.append(header + [\"curr_service_status\"] )\n",
    "  \n",
    "        for row in reader:\n",
    "            curr_service_stt = [];\n",
    "            for i in range(15, 16):\n",
    "                if len(row[i]) > 0:               \n",
    "                    curr_service_stt.append(row[i])\n",
    "            processed_data.append(row + curr_service_stt)\n",
    "            \n",
    "        writer.writerows(processed_data)    "
   ]
  },
  {
   "cell_type": "code",
   "execution_count": 12,
   "metadata": {},
   "outputs": [
    {
     "data": {
      "text/plain": [
       "Veteran (not retired)    333\n",
       "Active Duty              277\n",
       "Retired Military         141\n",
       "Reservist                 37\n",
       "National Guard            11\n",
       "Response                   1\n",
       "Name: curr_service_status, dtype: int64"
      ]
     },
     "execution_count": 12,
     "metadata": {},
     "output_type": "execute_result"
    }
   ],
   "source": [
    "data_output = pd.read_csv('SWAN_output.csv')\n",
    "data_output['curr_service_status'].value_counts() "
   ]
  },
  {
   "cell_type": "markdown",
   "metadata": {},
   "source": [
    "## Where do you primarily receive your reproductive health care services from (ie. contraception, pregnancy, infertility, etc.)?\n",
    "\n",
    "#### 'Civilian Provider' = 1  \n",
    "#### 'Military Treatment Facility (on base)' = 2\n",
    "#### 'Other (please specify)'= 3"
   ]
  },
  {
   "cell_type": "code",
   "execution_count": 48,
   "metadata": {
    "collapsed": true
   },
   "outputs": [],
   "source": [
    "with open(outputCSVFile, 'w') as csvoutput:\n",
    "    with open(FILE_NAME) as csvinput:\n",
    "        reader = csv.reader(csvinput)\n",
    "        writer = csv.writer(csvoutput)\n",
    "        processed_data = []\n",
    "        \n",
    "        header = next(reader, [])\n",
    "        processed_data.append(header + [\"where to receive services\"] )\n",
    "    \n",
    "        header = next(reader, [])\n",
    "#         processed_data.append(header + [\" \"])\n",
    "        \n",
    "        for row in reader:\n",
    "            where_receive_service = [];\n",
    "            for i in range(16, 17):\n",
    "                if len(row[i]) > 0:\n",
    "                    if row[i] ==  'Civilian Provider':\n",
    "                        where_receive_service.append('1')\n",
    "                    if row[i] == 'Military Treatment Facility (on base)':\n",
    "                        where_receive_service.append('2')\n",
    "                    if row[i] == 'Other (please specify)':\n",
    "                        where_receive_service.append('3')\n",
    "            processed_data.append(row + where_receive_service)\n",
    "            \n",
    "        writer.writerows(processed_data)    "
   ]
  },
  {
   "cell_type": "code",
   "execution_count": 91,
   "metadata": {},
   "outputs": [
    {
     "data": {
      "text/plain": [
       "2.0    231\n",
       "1.0     26\n",
       "3.0      5\n",
       "Name: where to receive services, dtype: int64"
      ]
     },
     "execution_count": 91,
     "metadata": {},
     "output_type": "execute_result"
    }
   ],
   "source": [
    "data_output = pd.read_csv('SWAN_output.csv')  \n",
    "data_output[\"where to receive services\"].value_counts() "
   ]
  },
  {
   "cell_type": "code",
   "execution_count": 9,
   "metadata": {
    "collapsed": true
   },
   "outputs": [
    {
     "data": {
      "text/plain": [
       "1                     Other (please specify)\n",
       "5                          Civilian Provider\n",
       "14                                        No\n",
       "27     Military Treatment Facility (on base)\n",
       "77     Military Treatment Facility (on base)\n",
       "78     Military Treatment Facility (on base)\n",
       "79     Military Treatment Facility (on base)\n",
       "80     Military Treatment Facility (on base)\n",
       "81     Military Treatment Facility (on base)\n",
       "83     Military Treatment Facility (on base)\n",
       "85     Military Treatment Facility (on base)\n",
       "89                         Civilian Provider\n",
       "90     Military Treatment Facility (on base)\n",
       "91     Military Treatment Facility (on base)\n",
       "93                         Civilian Provider\n",
       "94     Military Treatment Facility (on base)\n",
       "95     Military Treatment Facility (on base)\n",
       "96                    Other (please specify)\n",
       "97                         Civilian Provider\n",
       "98     Military Treatment Facility (on base)\n",
       "99     Military Treatment Facility (on base)\n",
       "100    Military Treatment Facility (on base)\n",
       "102    Military Treatment Facility (on base)\n",
       "103    Military Treatment Facility (on base)\n",
       "105    Military Treatment Facility (on base)\n",
       "106    Military Treatment Facility (on base)\n",
       "107    Military Treatment Facility (on base)\n",
       "109    Military Treatment Facility (on base)\n",
       "110    Military Treatment Facility (on base)\n",
       "111    Military Treatment Facility (on base)\n",
       "                       ...                  \n",
       "756    Military Treatment Facility (on base)\n",
       "758    Military Treatment Facility (on base)\n",
       "760    Military Treatment Facility (on base)\n",
       "762    Military Treatment Facility (on base)\n",
       "764    Military Treatment Facility (on base)\n",
       "766    Military Treatment Facility (on base)\n",
       "767    Military Treatment Facility (on base)\n",
       "768    Military Treatment Facility (on base)\n",
       "769    Military Treatment Facility (on base)\n",
       "770    Military Treatment Facility (on base)\n",
       "771    Military Treatment Facility (on base)\n",
       "772    Military Treatment Facility (on base)\n",
       "773                        Civilian Provider\n",
       "774    Military Treatment Facility (on base)\n",
       "775    Military Treatment Facility (on base)\n",
       "776    Military Treatment Facility (on base)\n",
       "777                        Civilian Provider\n",
       "778    Military Treatment Facility (on base)\n",
       "779                        Civilian Provider\n",
       "780    Military Treatment Facility (on base)\n",
       "781    Military Treatment Facility (on base)\n",
       "782    Military Treatment Facility (on base)\n",
       "783    Military Treatment Facility (on base)\n",
       "784    Military Treatment Facility (on base)\n",
       "787    Military Treatment Facility (on base)\n",
       "788    Military Treatment Facility (on base)\n",
       "789    Military Treatment Facility (on base)\n",
       "791    Military Treatment Facility (on base)\n",
       "793    Military Treatment Facility (on base)\n",
       "794    Military Treatment Facility (on base)\n",
       "Name: where to receive services, Length: 263, dtype: object"
      ]
     },
     "execution_count": 9,
     "metadata": {},
     "output_type": "execute_result"
    }
   ],
   "source": [
    "data_output['where to receive services'].dropna() "
   ]
  },
  {
   "cell_type": "code",
   "execution_count": null,
   "metadata": {
    "collapsed": true
   },
   "outputs": [],
   "source": []
  },
  {
   "cell_type": "markdown",
   "metadata": {},
   "source": [
    "## Do you receive information or education from your healthcare provider on your contraceptive options?\n",
    "Receive info on contraception "
   ]
  },
  {
   "cell_type": "code",
   "execution_count": 103,
   "metadata": {},
   "outputs": [
    {
     "data": {
      "text/plain": [
       "Yes                               174\n",
       "No                                 52\n",
       "No, I do not use contraception     37\n",
       "Response                            1\n",
       "Name: Do you receive information or education from your healthcare provider on your contraceptive options?, dtype: int64"
      ]
     },
     "execution_count": 103,
     "metadata": {},
     "output_type": "execute_result"
    }
   ],
   "source": [
    "data_output['Do you receive information or education from your healthcare provider on your contraceptive options?'].value_counts()   "
   ]
  },
  {
   "cell_type": "code",
   "execution_count": 104,
   "metadata": {},
   "outputs": [
    {
     "data": {
      "text/plain": [
       "536"
      ]
     },
     "execution_count": 104,
     "metadata": {},
     "output_type": "execute_result"
    }
   ],
   "source": [
    "data_output['Do you receive information or education from your healthcare provider on your contraceptive options?'].isnull().sum()  "
   ]
  },
  {
   "cell_type": "code",
   "execution_count": 13,
   "metadata": {
    "collapsed": true
   },
   "outputs": [],
   "source": [
    "with open(outputCSVFile, 'w') as csvoutput:\n",
    "    with open(FILE_NAME) as csvinput:\n",
    "        reader = csv.reader(csvinput)\n",
    "        writer = csv.writer(csvoutput)\n",
    "        processed_data = []\n",
    "        \n",
    "        header = next(reader, [])\n",
    "        processed_data.append(header + [\"Receive info on contraception\"] )\n",
    "    \n",
    "        header = next(reader, [])\n",
    "#         processed_data.append(header + [\" \"])\n",
    "        \n",
    "        for row in reader:\n",
    "            Receive_info_on_contraception = [];\n",
    "            for i in range(18, 19):\n",
    "                if len(row[i]) > 0:\n",
    "                    Receive_info_on_contraception.append(row[i]) \n",
    "#                     if row[i] ==  'Yes':\n",
    "#                         Receive_info_on_contraception.append('1')\n",
    "#                     if row[i] == 'No':\n",
    "#                         Receive_info_on_contraception.append('2')\n",
    "#                     if row[i] == 'No, I do not use contraception':\n",
    "#                         Receive_info_on_contraception.append('3')\n",
    "            processed_data.append(row + Receive_info_on_contraception)\n",
    "            \n",
    "        writer.writerows(processed_data)    "
   ]
  },
  {
   "cell_type": "code",
   "execution_count": 15,
   "metadata": {
    "scrolled": true
   },
   "outputs": [
    {
     "data": {
      "text/plain": [
       "Yes                               174\n",
       "No                                 52\n",
       "No, I do not use contraception     37\n",
       "Name: Receive info on contraception, dtype: int64"
      ]
     },
     "execution_count": 15,
     "metadata": {},
     "output_type": "execute_result"
    }
   ],
   "source": [
    "data_output = pd.read_csv('SWAN_output.csv')\n",
    "# data_output.head() \n",
    "data_output[\"Receive info on contraception\"].value_counts()   "
   ]
  },
  {
   "cell_type": "markdown",
   "metadata": {},
   "source": [
    "## Who did you turn to for assistance in getting pregnant? (check all that apply)"
   ]
  },
  {
   "cell_type": "code",
   "execution_count": 30,
   "metadata": {
    "collapsed": true
   },
   "outputs": [],
   "source": [
    "with open(outputCSVFile, 'w') as csvoutput:\n",
    "    with open(FILE_NAME) as csvinput:\n",
    "        reader = csv.reader(csvinput)\n",
    "        writer = csv.writer(csvoutput)\n",
    "        processed_data = []\n",
    "        \n",
    "        header = next(reader, [])\n",
    "        processed_data.append(header + [\"mili_provider\"] +\n",
    "                             ['civilian_provider'] + ['no_seeking'])  \n",
    "                              \n",
    "        header = next(reader, [])\n",
    "        processed_data.append(header + [\" \"] ) \n",
    "        \n",
    "        for row in reader:\n",
    "            mili_provider = []\n",
    "            civilian_provider = [] \n",
    "            no_seeking = []                  \n",
    "            for i in range(51, 55):\n",
    "                if len(row[i]) > 0:\n",
    "                    if row[i] == 'Military health care provider':\n",
    "                        mili_provider.append('1')\n",
    "                    if row[i] == 'Civilian Provider':\n",
    "                        civilian_provider.append('1')\n",
    "                    if row[i] == 'I did not seek out services for infertility':\n",
    "                        no_seeking.append('1')\n",
    "                else:         \n",
    "                    mili_provider.append('0')\n",
    "                    civilian_provider.append('0')\n",
    "                    no_seeking.append('0') \n",
    "            processed_data.append(row + mili_provider + civilian_provider + no_seeking)\n",
    "            \n",
    "        writer.writerows(processed_data)                  "
   ]
  },
  {
   "cell_type": "code",
   "execution_count": 31,
   "metadata": {
    "collapsed": true
   },
   "outputs": [
    {
     "ename": "ParserError",
     "evalue": "Error tokenizing data. C error: Expected 98 fields in line 3, saw 107\n",
     "output_type": "error",
     "traceback": [
      "\u001b[0;31m---------------------------------------------------------------------------\u001b[0m",
      "\u001b[0;31mParserError\u001b[0m                               Traceback (most recent call last)",
      "\u001b[0;32m<ipython-input-31-61b7d34690ce>\u001b[0m in \u001b[0;36m<module>\u001b[0;34m()\u001b[0m\n\u001b[0;32m----> 1\u001b[0;31m \u001b[0mdata_output\u001b[0m \u001b[0;34m=\u001b[0m \u001b[0mpd\u001b[0m\u001b[0;34m.\u001b[0m\u001b[0mread_csv\u001b[0m\u001b[0;34m(\u001b[0m\u001b[0;34m'SWAN_output.csv'\u001b[0m\u001b[0;34m)\u001b[0m\u001b[0;34m\u001b[0m\u001b[0m\n\u001b[0m\u001b[1;32m      2\u001b[0m \u001b[0;31m# data_output\u001b[0m\u001b[0;34m\u001b[0m\u001b[0;34m\u001b[0m\u001b[0m\n",
      "\u001b[0;32m/usr/local/lib/python3.6/site-packages/pandas/io/parsers.py\u001b[0m in \u001b[0;36mparser_f\u001b[0;34m(filepath_or_buffer, sep, delimiter, header, names, index_col, usecols, squeeze, prefix, mangle_dupe_cols, dtype, engine, converters, true_values, false_values, skipinitialspace, skiprows, nrows, na_values, keep_default_na, na_filter, verbose, skip_blank_lines, parse_dates, infer_datetime_format, keep_date_col, date_parser, dayfirst, iterator, chunksize, compression, thousands, decimal, lineterminator, quotechar, quoting, escapechar, comment, encoding, dialect, tupleize_cols, error_bad_lines, warn_bad_lines, skipfooter, doublequote, delim_whitespace, low_memory, memory_map, float_precision)\u001b[0m\n\u001b[1;32m    676\u001b[0m                     skip_blank_lines=skip_blank_lines)\n\u001b[1;32m    677\u001b[0m \u001b[0;34m\u001b[0m\u001b[0m\n\u001b[0;32m--> 678\u001b[0;31m         \u001b[0;32mreturn\u001b[0m \u001b[0m_read\u001b[0m\u001b[0;34m(\u001b[0m\u001b[0mfilepath_or_buffer\u001b[0m\u001b[0;34m,\u001b[0m \u001b[0mkwds\u001b[0m\u001b[0;34m)\u001b[0m\u001b[0;34m\u001b[0m\u001b[0m\n\u001b[0m\u001b[1;32m    679\u001b[0m \u001b[0;34m\u001b[0m\u001b[0m\n\u001b[1;32m    680\u001b[0m     \u001b[0mparser_f\u001b[0m\u001b[0;34m.\u001b[0m\u001b[0m__name__\u001b[0m \u001b[0;34m=\u001b[0m \u001b[0mname\u001b[0m\u001b[0;34m\u001b[0m\u001b[0m\n",
      "\u001b[0;32m/usr/local/lib/python3.6/site-packages/pandas/io/parsers.py\u001b[0m in \u001b[0;36m_read\u001b[0;34m(filepath_or_buffer, kwds)\u001b[0m\n\u001b[1;32m    444\u001b[0m \u001b[0;34m\u001b[0m\u001b[0m\n\u001b[1;32m    445\u001b[0m     \u001b[0;32mtry\u001b[0m\u001b[0;34m:\u001b[0m\u001b[0;34m\u001b[0m\u001b[0m\n\u001b[0;32m--> 446\u001b[0;31m         \u001b[0mdata\u001b[0m \u001b[0;34m=\u001b[0m \u001b[0mparser\u001b[0m\u001b[0;34m.\u001b[0m\u001b[0mread\u001b[0m\u001b[0;34m(\u001b[0m\u001b[0mnrows\u001b[0m\u001b[0;34m)\u001b[0m\u001b[0;34m\u001b[0m\u001b[0m\n\u001b[0m\u001b[1;32m    447\u001b[0m     \u001b[0;32mfinally\u001b[0m\u001b[0;34m:\u001b[0m\u001b[0;34m\u001b[0m\u001b[0m\n\u001b[1;32m    448\u001b[0m         \u001b[0mparser\u001b[0m\u001b[0;34m.\u001b[0m\u001b[0mclose\u001b[0m\u001b[0;34m(\u001b[0m\u001b[0;34m)\u001b[0m\u001b[0;34m\u001b[0m\u001b[0m\n",
      "\u001b[0;32m/usr/local/lib/python3.6/site-packages/pandas/io/parsers.py\u001b[0m in \u001b[0;36mread\u001b[0;34m(self, nrows)\u001b[0m\n\u001b[1;32m   1034\u001b[0m                 \u001b[0;32mraise\u001b[0m \u001b[0mValueError\u001b[0m\u001b[0;34m(\u001b[0m\u001b[0;34m'skipfooter not supported for iteration'\u001b[0m\u001b[0;34m)\u001b[0m\u001b[0;34m\u001b[0m\u001b[0m\n\u001b[1;32m   1035\u001b[0m \u001b[0;34m\u001b[0m\u001b[0m\n\u001b[0;32m-> 1036\u001b[0;31m         \u001b[0mret\u001b[0m \u001b[0;34m=\u001b[0m \u001b[0mself\u001b[0m\u001b[0;34m.\u001b[0m\u001b[0m_engine\u001b[0m\u001b[0;34m.\u001b[0m\u001b[0mread\u001b[0m\u001b[0;34m(\u001b[0m\u001b[0mnrows\u001b[0m\u001b[0;34m)\u001b[0m\u001b[0;34m\u001b[0m\u001b[0m\n\u001b[0m\u001b[1;32m   1037\u001b[0m \u001b[0;34m\u001b[0m\u001b[0m\n\u001b[1;32m   1038\u001b[0m         \u001b[0;31m# May alter columns / col_dict\u001b[0m\u001b[0;34m\u001b[0m\u001b[0;34m\u001b[0m\u001b[0m\n",
      "\u001b[0;32m/usr/local/lib/python3.6/site-packages/pandas/io/parsers.py\u001b[0m in \u001b[0;36mread\u001b[0;34m(self, nrows)\u001b[0m\n\u001b[1;32m   1846\u001b[0m     \u001b[0;32mdef\u001b[0m \u001b[0mread\u001b[0m\u001b[0;34m(\u001b[0m\u001b[0mself\u001b[0m\u001b[0;34m,\u001b[0m \u001b[0mnrows\u001b[0m\u001b[0;34m=\u001b[0m\u001b[0;32mNone\u001b[0m\u001b[0;34m)\u001b[0m\u001b[0;34m:\u001b[0m\u001b[0;34m\u001b[0m\u001b[0m\n\u001b[1;32m   1847\u001b[0m         \u001b[0;32mtry\u001b[0m\u001b[0;34m:\u001b[0m\u001b[0;34m\u001b[0m\u001b[0m\n\u001b[0;32m-> 1848\u001b[0;31m             \u001b[0mdata\u001b[0m \u001b[0;34m=\u001b[0m \u001b[0mself\u001b[0m\u001b[0;34m.\u001b[0m\u001b[0m_reader\u001b[0m\u001b[0;34m.\u001b[0m\u001b[0mread\u001b[0m\u001b[0;34m(\u001b[0m\u001b[0mnrows\u001b[0m\u001b[0;34m)\u001b[0m\u001b[0;34m\u001b[0m\u001b[0m\n\u001b[0m\u001b[1;32m   1849\u001b[0m         \u001b[0;32mexcept\u001b[0m \u001b[0mStopIteration\u001b[0m\u001b[0;34m:\u001b[0m\u001b[0;34m\u001b[0m\u001b[0m\n\u001b[1;32m   1850\u001b[0m             \u001b[0;32mif\u001b[0m \u001b[0mself\u001b[0m\u001b[0;34m.\u001b[0m\u001b[0m_first_chunk\u001b[0m\u001b[0;34m:\u001b[0m\u001b[0;34m\u001b[0m\u001b[0m\n",
      "\u001b[0;32mpandas/_libs/parsers.pyx\u001b[0m in \u001b[0;36mpandas._libs.parsers.TextReader.read\u001b[0;34m()\u001b[0m\n",
      "\u001b[0;32mpandas/_libs/parsers.pyx\u001b[0m in \u001b[0;36mpandas._libs.parsers.TextReader._read_low_memory\u001b[0;34m()\u001b[0m\n",
      "\u001b[0;32mpandas/_libs/parsers.pyx\u001b[0m in \u001b[0;36mpandas._libs.parsers.TextReader._read_rows\u001b[0;34m()\u001b[0m\n",
      "\u001b[0;32mpandas/_libs/parsers.pyx\u001b[0m in \u001b[0;36mpandas._libs.parsers.TextReader._tokenize_rows\u001b[0;34m()\u001b[0m\n",
      "\u001b[0;32mpandas/_libs/parsers.pyx\u001b[0m in \u001b[0;36mpandas._libs.parsers.raise_parser_error\u001b[0;34m()\u001b[0m\n",
      "\u001b[0;31mParserError\u001b[0m: Error tokenizing data. C error: Expected 98 fields in line 3, saw 107\n"
     ]
    }
   ],
   "source": [
    "data_output = pd.read_csv('SWAN_output.csv')   \n",
    "# data_output"
   ]
  },
  {
   "cell_type": "markdown",
   "metadata": {},
   "source": [
    "## Gather new columns to dataframe "
   ]
  },
  {
   "cell_type": "code",
   "execution_count": 19,
   "metadata": {
    "collapsed": true
   },
   "outputs": [],
   "source": [
    "with open(outputCSVFile, 'w') as csvoutput:\n",
    "    with open(FILE_NAME) as csvinput:\n",
    "        reader = csv.reader(csvinput)\n",
    "        writer = csv.writer(csvoutput)\n",
    "        processed_data = []\n",
    "        \n",
    "        header = next(reader, [])\n",
    "        processed_data.append(header + [\"service_branch\"] + [\"race\"] + [\"military_service_status\"] \n",
    "          + [\"curr_service_status\"]  + [\"where_to_receive_services\"] + [\"Receive_info_on_contraception\"])\n",
    "        \n",
    "        header = next(reader, [])\n",
    "        processed_data.append(header + [\"\"])\n",
    "        \n",
    "        for row in reader:\n",
    "            \n",
    "            service_branch = []\n",
    "            for i in range(0, 1):           \n",
    "                if len(row[i]) > 0: \n",
    "                    service_branch.append(row[i])\n",
    "                else: \n",
    "                    service_branch.append(\" \") \n",
    "            \n",
    "            race = []\n",
    "            for i in range(2, 12):\n",
    "                if len(row[i]) > 0:               \n",
    "                    race.append(row[i])\n",
    "                if row[i] == 'American':\n",
    "                    race = \"White\"\n",
    "                if row[i] == 'American':\n",
    "                    race = \"White\"\n",
    "                if row[i] == 'European/Irish American':\n",
    "                    race = \"Mixed\"\n",
    "                if row[i] == \"Human\":\n",
    "                    race = \"I prefer not to answer\"     \n",
    "            if len(race) > 1:\n",
    "                race = [\"Mixed\"]\n",
    "                \n",
    "            service_stt = [];\n",
    "            for i in range(12, 15):\n",
    "                if len(row[i]) > 0:               \n",
    "                    service_stt.append(row[i])\n",
    "            if len(service_stt) > 1:\n",
    "                service_stt = [\"Both\"]\n",
    "       \n",
    "            curr_service_stt = [];\n",
    "            for i in range(15, 16):\n",
    "                if len(row[i]) > 0:               \n",
    "                    curr_service_stt.append(row[i])\n",
    "                \n",
    "            where_receive_service = []\n",
    "            for i in range(16, 17):\n",
    "                if len(row[i]) > 0:\n",
    "                    where_receive_service.append(row[i])\n",
    "              \n",
    "            Receive_info_on_contraception = []\n",
    "            for i in range(18, 19):\n",
    "                if len(row[i]) > 0:\n",
    "                    Receive_info_on_contraception.append(row[i]) \n",
    "                   \n",
    "            processed_data.append(row + service_branch + race + service_stt\n",
    "            + curr_service_stt + where_receive_service + Receive_info_on_contraception)  \n",
    "            \n",
    "        writer.writerows(processed_data) \n",
    "        \n",
    "data_output = pd.read_csv('SWAN_output.csv') "
   ]
  },
  {
   "cell_type": "code",
   "execution_count": 20,
   "metadata": {},
   "outputs": [
    {
     "data": {
      "text/plain": [
       "Officer                  393\n",
       "Enlisted                 369\n",
       "Both                      36\n",
       "Veteran (not retired)      1\n",
       "Name: military_service_status, dtype: int64"
      ]
     },
     "execution_count": 20,
     "metadata": {},
     "output_type": "execute_result"
    }
   ],
   "source": [
    "data_output['military_service_status'].value_counts()   "
   ]
  },
  {
   "cell_type": "code",
   "execution_count": 74,
   "metadata": {},
   "outputs": [
    {
     "name": "stdout",
     "output_type": "stream",
     "text": [
      "Unnamed: 32    771\n",
      "dtype: int64\n"
     ]
    }
   ],
   "source": [
    "data_output = pd.read_csv('SWAN_output.csv') \n",
    "# data_output.shape = 800\n",
    "# null_1 = data_output.iloc[:,31:32].isnull().sum()\n",
    "# print(null_1) \n",
    "null_2=data_output.iloc[:,32:33].isnull().sum()\n",
    "data_output.iloc[:, 32:33].values \n",
    "print(null_2)\n",
    "# null_3=data_output.iloc[:,32:33].isnull().sum()\n",
    "# print(null_3)\n",
    "# print('null', null_1,null_2,null_3)  \n"
   ]
  },
  {
   "cell_type": "markdown",
   "metadata": {},
   "source": [
    "## Checking NORMALITY for AGE "
   ]
  },
  {
   "cell_type": "code",
   "execution_count": 156,
   "metadata": {
    "collapsed": true
   },
   "outputs": [],
   "source": [
    "from matplotlib import pyplot\n",
    "from statsmodels.graphics.gofplots import qqplot\n",
    "\n",
    "# import numpy as np\n",
    "# import scipy.stats as stats\n",
    "import pylab as pl"
   ]
  },
  {
   "cell_type": "code",
   "execution_count": 157,
   "metadata": {
    "collapsed": true
   },
   "outputs": [],
   "source": [
    "age= data_output[\"What is your current age?\"][1:].dropna() \n",
    "age.loc[304] = 41  \n",
    "age=pd.to_numeric(age) "
   ]
  },
  {
   "cell_type": "code",
   "execution_count": 158,
   "metadata": {},
   "outputs": [
    {
     "data": {
      "text/plain": [
       "(array([ 37., 120., 209., 136.,  94.,  62.,  55.,  63.,  16.,   4.]),\n",
       " array([20. , 25.7, 31.4, 37.1, 42.8, 48.5, 54.2, 59.9, 65.6, 71.3, 77. ]),\n",
       " <a list of 10 Patch objects>)"
      ]
     },
     "execution_count": 158,
     "metadata": {},
     "output_type": "execute_result"
    },
    {
     "data": {
      "image/png": "[encoded data removed]",
      "text/plain": [
       "<Figure size 432x288 with 1 Axes>"
      ]
     },
     "metadata": {},
     "output_type": "display_data"
    }
   ],
   "source": [
    "pyplot.hist(age) "
   ]
  },
  {
   "cell_type": "code",
   "execution_count": 159,
   "metadata": {},
   "outputs": [
    {
     "data": {
      "text/plain": [
       "(array([0.00815481, 0.02644803, 0.04606365, 0.02997443, 0.02071762,\n",
       "        0.01366482, 0.01212201, 0.01388522, 0.0035264 , 0.0008816 ]),\n",
       " array([20. , 25.7, 31.4, 37.1, 42.8, 48.5, 54.2, 59.9, 65.6, 71.3, 77. ]),\n",
       " <a list of 10 Patch objects>)"
      ]
     },
     "execution_count": 159,
     "metadata": {},
     "output_type": "execute_result"
    },
    {
     "data": {
      "image/png": "[encoded data removed]",
      "text/plain": [
       "<Figure size 432x288 with 1 Axes>"
      ]
     },
     "metadata": {},
     "output_type": "display_data"
    }
   ],
   "source": [
    "plt.hist(age, density=True)"
   ]
  },
  {
   "cell_type": "code",
   "execution_count": 164,
   "metadata": {},
   "outputs": [
    {
     "data": {
      "image/png": "[encoded data removed]",
      "text/plain": [
       "<Figure size 432x288 with 1 Axes>"
      ]
     },
     "execution_count": 164,
     "metadata": {},
     "output_type": "execute_result"
    },
    {
     "data": {
      "image/png": "[encoded data removed]",
      "text/plain": [
       "<Figure size 432x288 with 1 Axes>"
      ]
     },
     "metadata": {},
     "output_type": "display_data"
    }
   ],
   "source": [
    "qqplot(age, line='s') "
   ]
  },
  {
   "cell_type": "markdown",
   "metadata": {},
   "source": [
    "### apply log transformation for skew distribution"
   ]
  },
  {
   "cell_type": "code",
   "execution_count": 161,
   "metadata": {},
   "outputs": [
    {
     "data": {
      "text/plain": [
       "<matplotlib.axes._subplots.AxesSubplot at 0x114954f98>"
      ]
     },
     "execution_count": 161,
     "metadata": {},
     "output_type": "execute_result"
    },
    {
     "data": {
      "image/png": "[encoded data removed]",
      "text/plain": [
       "<Figure size 432x288 with 1 Axes>"
      ]
     },
     "metadata": {},
     "output_type": "display_data"
    }
   ],
   "source": [
    "age.apply(np.log).hist() "
   ]
  },
  {
   "cell_type": "code",
   "execution_count": 163,
   "metadata": {},
   "outputs": [
    {
     "data": {
      "image/png": "[encoded data removed]",
      "text/plain": [
       "<Figure size 432x288 with 1 Axes>"
      ]
     },
     "execution_count": 163,
     "metadata": {},
     "output_type": "execute_result"
    },
    {
     "data": {
      "image/png": "[encoded data removed]",
      "text/plain": [
       "<Figure size 432x288 with 1 Axes>"
      ]
     },
     "metadata": {},
     "output_type": "display_data"
    }
   ],
   "source": [
    "age_log = age.apply(np.log) \n",
    "qqplot(age_log, line='s') "
   ]
  },
  {
   "cell_type": "code",
   "execution_count": 167,
   "metadata": {},
   "outputs": [
    {
     "data": {
      "text/plain": [
       "count    796.000000\n",
       "mean       3.683264\n",
       "std        0.276192\n",
       "min        2.995732\n",
       "25%        3.496508\n",
       "50%        3.637586\n",
       "75%        3.891820\n",
       "max        4.343805\n",
       "Name: What is your current age?, dtype: float64"
      ]
     },
     "execution_count": 167,
     "metadata": {},
     "output_type": "execute_result"
    }
   ],
   "source": [
    "age_log.describe() "
   ]
  },
  {
   "cell_type": "markdown",
   "metadata": {},
   "source": [
    "## 1 sample t-test for AGE \n",
    "### Age hypothesis: is the population mean(age) different than 3.68?\n",
    "\n",
    "null_hypothesis: mean(age) = 3.68\n",
    "alter_hypothesis: mean(age) != 3.68\n",
    "\n",
    "reject h0 if pvalue < 0.05\n",
    "\n",
    "Here pvalue >0.05 --> do not reject H0 --> there is not enough evidence to say population mean different than 3.68 \n",
    "    "
   ]
  },
  {
   "cell_type": "code",
   "execution_count": 204,
   "metadata": {},
   "outputs": [
    {
     "data": {
      "text/plain": [
       "Ttest_1sampResult(statistic=0.333421968960953, pvalue=0.7389036991425046)"
      ]
     },
     "execution_count": 204,
     "metadata": {},
     "output_type": "execute_result"
    }
   ],
   "source": [
    "stats.ttest_1samp(age_log, 3.68) "
   ]
  },
  {
   "cell_type": "markdown",
   "metadata": {},
   "source": [
    "## 1 way ANOVA for AGE and SERVICES "
   ]
  },
  {
   "cell_type": "code",
   "execution_count": 203,
   "metadata": {},
   "outputs": [
    {
     "name": "stderr",
     "output_type": "stream",
     "text": [
      "/usr/local/lib/python3.6/site-packages/scipy/stats/stats.py:2923: RuntimeWarning: invalid value encountered in double_scalars\n",
      "  ssbn += _square_of_sums(a - offset) / float(len(a))\n"
     ]
    },
    {
     "data": {
      "text/plain": [
       "F_onewayResult(statistic=nan, pvalue=nan)"
      ]
     },
     "execution_count": 203,
     "metadata": {},
     "output_type": "execute_result"
    }
   ],
   "source": [
    "stats.f_oneway(age, Receive_info_on_contraception) "
   ]
  },
  {
   "cell_type": "code",
   "execution_count": null,
   "metadata": {
    "collapsed": true
   },
   "outputs": [],
   "source": []
  }
 ],
 "metadata": {
  "kernelspec": {
   "display_name": "Python 3",
   "language": "python",
   "name": "python3"
  },
  "language_info": {
   "codemirror_mode": {
    "name": "ipython",
    "version": 3
   },
   "file_extension": ".py",
   "mimetype": "text/x-python",
   "name": "python",
   "nbconvert_exporter": "python",
   "pygments_lexer": "ipython3",
   "version": "3.6.5"
  }
 },
 "nbformat": 4,
 "nbformat_minor": 2
}
